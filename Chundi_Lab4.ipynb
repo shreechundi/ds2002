{
 "cells": [
  {
   "cell_type": "code",
   "execution_count": 21,
   "id": "b263428e",
   "metadata": {},
   "outputs": [],
   "source": [
    "import json\n",
    "import requests\n",
    "import pandas\n",
    "import yfinance as yf\n",
    "from yahoofinancials import YahooFinancials\n",
    "from datetime import datetime"
   ]
  },
  {
   "cell_type": "code",
   "execution_count": 22,
   "id": "119abb0a",
   "metadata": {},
   "outputs": [
    {
     "name": "stdout",
     "output_type": "stream",
     "text": [
      "MO\n"
     ]
    },
    {
     "data": {
      "text/plain": [
       "'MO'"
      ]
     },
     "execution_count": 22,
     "metadata": {},
     "output_type": "execute_result"
    }
   ],
   "source": [
    "stock =input()\n",
    "#name ticker\n",
    "stock"
   ]
  },
  {
   "cell_type": "code",
   "execution_count": 23,
   "id": "b6efea85",
   "metadata": {},
   "outputs": [],
   "source": [
    "url = \"https://query1.finance.yahoo.com/v7/finance/quote\"\n",
    "\n",
    "user_agent_headers = {\n",
    "    'User-Agent': 'Mozilla/5.0 (Macintosh; Intel Mac OS X 10_10_1) AppleWebKit/537.36 (KHTML, like Gecko) Chrome/39.0.2171.95 Safari/537.36'}\n",
    "\n",
    "headers=user_agent_headers\n",
    "headers\n",
    "querystring = querystring = {\"symbols\":stock}\n"
   ]
  },
  {
   "cell_type": "code",
   "execution_count": 24,
   "id": "22737f8d",
   "metadata": {},
   "outputs": [],
   "source": [
    "response = requests.request(\"GET\", url, headers=headers, params=querystring)"
   ]
  },
  {
   "cell_type": "code",
   "execution_count": 25,
   "id": "213b65e6",
   "metadata": {},
   "outputs": [],
   "source": [
    "stock_json1 = response.json()"
   ]
  },
  {
   "cell_type": "code",
   "execution_count": 26,
   "id": "47565cba",
   "metadata": {},
   "outputs": [],
   "source": [
    "#handle errors\n",
    "if len(stock_json1['quoteResponse']['result']) == 0:\n",
    "    print(\"Stock does not exist.\")"
   ]
  },
  {
   "cell_type": "code",
   "execution_count": 27,
   "id": "7a132edc",
   "metadata": {},
   "outputs": [
    {
     "data": {
      "text/plain": [
       "'Altria Group, Inc.'"
      ]
     },
     "execution_count": 27,
     "metadata": {},
     "output_type": "execute_result"
    }
   ],
   "source": [
    "#stock full name\n",
    "stock_json1['quoteResponse']['result'][0]['longName']"
   ]
  },
  {
   "cell_type": "code",
   "execution_count": 28,
   "id": "a9c91f68",
   "metadata": {},
   "outputs": [],
   "source": [
    "url2=\"https://query1.finance.yahoo.com/v10/finance/quoteSummary/\"\n",
    "query_str = {\"symbol\": stock, \"modules\":\"financialData\"}\n",
    "\n",
    "response = requests.request(\"GET\",url2, headers=headers,params=query_str)\n",
    "\n",
    "stock_json2 = response.json()"
   ]
  },
  {
   "cell_type": "code",
   "execution_count": 29,
   "id": "8255c1bf",
   "metadata": {},
   "outputs": [
    {
     "data": {
      "text/plain": [
       "44.48"
      ]
     },
     "execution_count": 29,
     "metadata": {},
     "output_type": "execute_result"
    }
   ],
   "source": [
    "#current price\n",
    "stock_json2['quoteSummary']['result'][0]['financialData']['currentPrice']['raw']"
   ]
  },
  {
   "cell_type": "code",
   "execution_count": 30,
   "id": "1aa3ee3f",
   "metadata": {},
   "outputs": [
    {
     "data": {
      "text/plain": [
       "48.7"
      ]
     },
     "execution_count": 30,
     "metadata": {},
     "output_type": "execute_result"
    }
   ],
   "source": [
    "#target mean price\n",
    "stock_json2['quoteSummary']['result'][0]['financialData']['targetMeanPrice']['raw']"
   ]
  },
  {
   "cell_type": "code",
   "execution_count": 31,
   "id": "a79692a8",
   "metadata": {},
   "outputs": [
    {
     "data": {
      "text/plain": [
       "2567000064"
      ]
     },
     "execution_count": 31,
     "metadata": {},
     "output_type": "execute_result"
    }
   ],
   "source": [
    "#cash on hand\n",
    "stock_json2['quoteSummary']['result'][0]['financialData']['totalCash']['raw']"
   ]
  },
  {
   "cell_type": "code",
   "execution_count": 32,
   "id": "cdac8f2f",
   "metadata": {},
   "outputs": [
    {
     "data": {
      "text/plain": [
       "0.08453"
      ]
     },
     "execution_count": 32,
     "metadata": {},
     "output_type": "execute_result"
    }
   ],
   "source": [
    "#profit margins\n",
    "stock_json2['quoteSummary']['result'][0]['financialData']['profitMargins']['raw']"
   ]
  },
  {
   "cell_type": "code",
   "execution_count": 33,
   "id": "4bc5a523",
   "metadata": {},
   "outputs": [],
   "source": [
    "#date pulled \n",
    "today = datetime.today().strftime('%Y-%m-%d')"
   ]
  },
  {
   "cell_type": "code",
   "execution_count": 34,
   "id": "eaa243c2",
   "metadata": {},
   "outputs": [],
   "source": [
    "#store in JSON \n",
    "data = {\"Name Ticker\" : stock, \"Full Name of Stock\" : stock_json1['quoteResponse']['result'][0]['longName'],\n",
    "        \"Current Price\" : stock_json2['quoteSummary']['result'][0]['financialData']['currentPrice']['raw'],\n",
    "        \"Target Mean Price\" : stock_json2['quoteSummary']['result'][0]['financialData']['targetMeanPrice']['raw'],\n",
    "        \"Cash on Hand\" : stock_json2['quoteSummary']['result'][0]['financialData']['totalCash']['raw'],\n",
    "        \"Profit Margins\" : stock_json2['quoteSummary']['result'][0]['financialData']['profitMargins']['raw'],\n",
    "        \"Date Pulled\" : today}\n",
    "\n",
    "with open('data.json', 'w', encoding='utf-8') as f:\n",
    "    json.dump(data, f, ensure_ascii=False, indent=4)\n"
   ]
  },
  {
   "cell_type": "code",
   "execution_count": 16,
   "id": "228e6da9",
   "metadata": {},
   "outputs": [
    {
     "data": {
      "text/plain": [
       "<AxesSubplot:title={'center':'Highest Value of MO Price Over Past 5 Days'}, xlabel='Date'>"
      ]
     },
     "execution_count": 16,
     "metadata": {},
     "output_type": "execute_result"
    },
    {
     "data": {
      "image/png": "[encoded data removed]",
      "text/plain": [
       "<Figure size 432x288 with 1 Axes>"
      ]
     },
     "metadata": {
      "needs_background": "light"
     },
     "output_type": "display_data"
    }
   ],
   "source": [
    "#bonus \n",
    "import datetime\n",
    "import yfinance as yf\n",
    "from yahoofinancials import YahooFinancials\n",
    "\n",
    "start_date = (datetime.datetime.now() - datetime.timedelta(days = 5)).date()\n",
    "end_date = datetime.datetime.now().date()\n",
    "\n",
    "time_data = yf.download(stock,\n",
    "                        start = start_date,\n",
    "                        end = end_date,\n",
    "                        progress = False\n",
    "                        )\n",
    "\n",
    "time_data['High'].plot(title = f'Highest Value of {stock} Price Over Past 5 Days')"
   ]
  }
 ],
 "metadata": {
  "kernelspec": {
   "display_name": "Python 3 (ipykernel)",
   "language": "python",
   "name": "python3"
  },
  "language_info": {
   "codemirror_mode": {
    "name": "ipython",
    "version": 3
   },
   "file_extension": ".py",
   "mimetype": "text/x-python",
   "name": "python",
   "nbconvert_exporter": "python",
   "pygments_lexer": "ipython3",
   "version": "3.9.12"
  }
 },
 "nbformat": 4,
 "nbformat_minor": 5
}
